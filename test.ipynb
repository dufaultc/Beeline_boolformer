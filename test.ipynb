{
 "cells": [
  {
   "cell_type": "code",
   "execution_count": 1,
   "metadata": {},
   "outputs": [],
   "source": [
    "from sklearn.cluster import KMeans\n",
    "from sklearn.cluster import AgglomerativeClustering\n",
    "from sklearn.mixture import GaussianMixture\n",
    "import numpy as np\n",
    "import pandas as pd"
   ]
  },
  {
   "cell_type": "code",
   "execution_count": 157,
   "metadata": {},
   "outputs": [],
   "source": [
    "def kmeans_cluster(row_values, num_clusters):\n",
    "    kmeans = KMeans(n_clusters=num_clusters,random_state=42)\n",
    "    kmeans.fit(row_values.reshape(-1, 1))\n",
    "    cluster_labels = kmeans.labels_\n",
    "    \n",
    "    \n",
    "    cluster_avg_values = {}\n",
    "\n",
    "    for cluster_label in np.unique(cluster_labels):\n",
    "        cluster_avg_values[cluster_label] = np.mean(row_values[cluster_labels == cluster_label])\n",
    "\n",
    "    min_avg_cluster = min(cluster_avg_values, key=cluster_avg_values.get)\n",
    "    max_avg_cluster = max(cluster_avg_values, key=cluster_avg_values.get)\n",
    "    if cluster_avg_values[min_avg_cluster] > (\n",
    "        0.1\n",
    "    ):\n",
    "        print(\"cluster adjust boolformer correct\")\n",
    "        #if (min(row_values) < 0.2):\n",
    "        #    min_avg_cluster = -1\n",
    "        cluster_labels = [-1 if val > 0.2 else min_avg_cluster for val in list(row_values)]\n",
    "    \n",
    "    return cluster_labels\n",
    "\n",
    "\n",
    "def get_min_avg_cluster(row, clusters):\n",
    "    cluster_avg_values = {}\n",
    "\n",
    "    for cluster_label in clusters.unique():\n",
    "        cluster_avg_values[cluster_label] = np.mean(row[clusters == cluster_label])\n",
    "\n",
    "    min_avg_cluster = min(cluster_avg_values, key=cluster_avg_values.get)\n",
    "    max_avg_cluster = max(cluster_avg_values, key=cluster_avg_values.get)\n",
    "    if cluster_avg_values[min_avg_cluster] > (\n",
    "        0.30 * cluster_avg_values[max_avg_cluster]\n",
    "    ):\n",
    "        print(\"cluster adjust boolformer shouldnt happen\")\n",
    "        min_avg_cluster = -2\n",
    "    return min_avg_cluster"
   ]
  },
  {
   "cell_type": "code",
   "execution_count": 2,
   "metadata": {},
   "outputs": [],
   "source": [
    "df = pd.read_csv(\n",
    "    \"/home/cameron/repos/Beeline_boolformer/BEELINE-data/inputs/Curated/mCAD/mCAD-2000-1-70/Boolformer/ExpressionData_rolling.csv\",\n",
    "    index_col = 0\n",
    "    )"
   ]
  },
  {
   "cell_type": "code",
   "execution_count": 3,
   "metadata": {},
   "outputs": [
    {
     "data": {
      "text/html": [
       "<div>\n",
       "<style scoped>\n",
       "    .dataframe tbody tr th:only-of-type {\n",
       "        vertical-align: middle;\n",
       "    }\n",
       "\n",
       "    .dataframe tbody tr th {\n",
       "        vertical-align: top;\n",
       "    }\n",
       "\n",
       "    .dataframe thead th {\n",
       "        text-align: right;\n",
       "    }\n",
       "</style>\n",
       "<table border=\"1\" class=\"dataframe\">\n",
       "  <thead>\n",
       "    <tr style=\"text-align: right;\">\n",
       "      <th></th>\n",
       "      <th>E1263_1</th>\n",
       "      <th>E1065_1</th>\n",
       "      <th>E385_1</th>\n",
       "      <th>E1709_2</th>\n",
       "      <th>E1059_2</th>\n",
       "      <th>E1330_2</th>\n",
       "      <th>E697_2</th>\n",
       "      <th>E426_3</th>\n",
       "      <th>E934_3</th>\n",
       "      <th>E291_3</th>\n",
       "      <th>...</th>\n",
       "      <th>E1119_491</th>\n",
       "      <th>E1717_492</th>\n",
       "      <th>E1829_492</th>\n",
       "      <th>E1508_495</th>\n",
       "      <th>E1747_495</th>\n",
       "      <th>E284_496</th>\n",
       "      <th>E1359_496</th>\n",
       "      <th>E172_497</th>\n",
       "      <th>E1066_499</th>\n",
       "      <th>E1242_499</th>\n",
       "    </tr>\n",
       "  </thead>\n",
       "  <tbody>\n",
       "    <tr>\n",
       "      <th>Coup</th>\n",
       "      <td>0.0</td>\n",
       "      <td>0.000000</td>\n",
       "      <td>0.000000</td>\n",
       "      <td>0.000000</td>\n",
       "      <td>0.004789</td>\n",
       "      <td>0.009422</td>\n",
       "      <td>0.007035</td>\n",
       "      <td>0.002402</td>\n",
       "      <td>0.000000</td>\n",
       "      <td>0.000000</td>\n",
       "      <td>...</td>\n",
       "      <td>2.248551</td>\n",
       "      <td>2.090223</td>\n",
       "      <td>2.065870e+00</td>\n",
       "      <td>1.704820e+00</td>\n",
       "      <td>1.852149e+00</td>\n",
       "      <td>1.818471e+00</td>\n",
       "      <td>1.774988e+00</td>\n",
       "      <td>2.128642e+00</td>\n",
       "      <td>2.134857e+00</td>\n",
       "      <td>1.953426e+00</td>\n",
       "    </tr>\n",
       "    <tr>\n",
       "      <th>Emx2</th>\n",
       "      <td>0.0</td>\n",
       "      <td>0.000000</td>\n",
       "      <td>0.000000</td>\n",
       "      <td>0.000000</td>\n",
       "      <td>0.000000</td>\n",
       "      <td>0.001117</td>\n",
       "      <td>0.001117</td>\n",
       "      <td>0.000000</td>\n",
       "      <td>0.000000</td>\n",
       "      <td>0.002059</td>\n",
       "      <td>...</td>\n",
       "      <td>2.539227</td>\n",
       "      <td>2.460060</td>\n",
       "      <td>1.991914e+00</td>\n",
       "      <td>1.910740e+00</td>\n",
       "      <td>2.240672e+00</td>\n",
       "      <td>1.896486e+00</td>\n",
       "      <td>1.862614e+00</td>\n",
       "      <td>2.436980e+00</td>\n",
       "      <td>2.458303e+00</td>\n",
       "      <td>2.454086e+00</td>\n",
       "    </tr>\n",
       "    <tr>\n",
       "      <th>Fgf8</th>\n",
       "      <td>0.0</td>\n",
       "      <td>0.852665</td>\n",
       "      <td>0.852665</td>\n",
       "      <td>0.000000</td>\n",
       "      <td>0.000000</td>\n",
       "      <td>0.000000</td>\n",
       "      <td>0.000000</td>\n",
       "      <td>0.751989</td>\n",
       "      <td>1.271664</td>\n",
       "      <td>0.519676</td>\n",
       "      <td>...</td>\n",
       "      <td>0.002778</td>\n",
       "      <td>0.002778</td>\n",
       "      <td>0.000000e+00</td>\n",
       "      <td>6.468730e-02</td>\n",
       "      <td>6.468730e-02</td>\n",
       "      <td>0.000000e+00</td>\n",
       "      <td>0.000000e+00</td>\n",
       "      <td>0.000000e+00</td>\n",
       "      <td>8.371329e-03</td>\n",
       "      <td>8.371329e-03</td>\n",
       "    </tr>\n",
       "    <tr>\n",
       "      <th>Pax6</th>\n",
       "      <td>0.0</td>\n",
       "      <td>0.000000</td>\n",
       "      <td>0.000000</td>\n",
       "      <td>0.000000</td>\n",
       "      <td>0.000000</td>\n",
       "      <td>0.000000</td>\n",
       "      <td>0.000000</td>\n",
       "      <td>0.000000</td>\n",
       "      <td>0.000000</td>\n",
       "      <td>0.000000</td>\n",
       "      <td>...</td>\n",
       "      <td>0.000648</td>\n",
       "      <td>0.000648</td>\n",
       "      <td>3.469447e-18</td>\n",
       "      <td>3.469447e-18</td>\n",
       "      <td>3.469447e-18</td>\n",
       "      <td>3.469447e-18</td>\n",
       "      <td>3.469447e-18</td>\n",
       "      <td>3.469447e-18</td>\n",
       "      <td>3.469447e-18</td>\n",
       "      <td>3.469447e-18</td>\n",
       "    </tr>\n",
       "    <tr>\n",
       "      <th>Sp8</th>\n",
       "      <td>0.0</td>\n",
       "      <td>0.000000</td>\n",
       "      <td>0.100629</td>\n",
       "      <td>0.300071</td>\n",
       "      <td>0.392044</td>\n",
       "      <td>0.192601</td>\n",
       "      <td>0.000000</td>\n",
       "      <td>0.000000</td>\n",
       "      <td>0.000000</td>\n",
       "      <td>0.278215</td>\n",
       "      <td>...</td>\n",
       "      <td>0.002737</td>\n",
       "      <td>0.000000</td>\n",
       "      <td>0.000000e+00</td>\n",
       "      <td>5.008303e-04</td>\n",
       "      <td>5.008303e-04</td>\n",
       "      <td>0.000000e+00</td>\n",
       "      <td>0.000000e+00</td>\n",
       "      <td>2.968481e-03</td>\n",
       "      <td>2.968481e-03</td>\n",
       "      <td>0.000000e+00</td>\n",
       "    </tr>\n",
       "  </tbody>\n",
       "</table>\n",
       "<p>5 rows × 2000 columns</p>\n",
       "</div>"
      ],
      "text/plain": [
       "      E1263_1   E1065_1    E385_1   E1709_2   E1059_2   E1330_2    E697_2  \\\n",
       "Coup      0.0  0.000000  0.000000  0.000000  0.004789  0.009422  0.007035   \n",
       "Emx2      0.0  0.000000  0.000000  0.000000  0.000000  0.001117  0.001117   \n",
       "Fgf8      0.0  0.852665  0.852665  0.000000  0.000000  0.000000  0.000000   \n",
       "Pax6      0.0  0.000000  0.000000  0.000000  0.000000  0.000000  0.000000   \n",
       "Sp8       0.0  0.000000  0.100629  0.300071  0.392044  0.192601  0.000000   \n",
       "\n",
       "        E426_3    E934_3    E291_3  ...  E1119_491  E1717_492     E1829_492  \\\n",
       "Coup  0.002402  0.000000  0.000000  ...   2.248551   2.090223  2.065870e+00   \n",
       "Emx2  0.000000  0.000000  0.002059  ...   2.539227   2.460060  1.991914e+00   \n",
       "Fgf8  0.751989  1.271664  0.519676  ...   0.002778   0.002778  0.000000e+00   \n",
       "Pax6  0.000000  0.000000  0.000000  ...   0.000648   0.000648  3.469447e-18   \n",
       "Sp8   0.000000  0.000000  0.278215  ...   0.002737   0.000000  0.000000e+00   \n",
       "\n",
       "         E1508_495     E1747_495      E284_496     E1359_496      E172_497  \\\n",
       "Coup  1.704820e+00  1.852149e+00  1.818471e+00  1.774988e+00  2.128642e+00   \n",
       "Emx2  1.910740e+00  2.240672e+00  1.896486e+00  1.862614e+00  2.436980e+00   \n",
       "Fgf8  6.468730e-02  6.468730e-02  0.000000e+00  0.000000e+00  0.000000e+00   \n",
       "Pax6  3.469447e-18  3.469447e-18  3.469447e-18  3.469447e-18  3.469447e-18   \n",
       "Sp8   5.008303e-04  5.008303e-04  0.000000e+00  0.000000e+00  2.968481e-03   \n",
       "\n",
       "         E1066_499     E1242_499  \n",
       "Coup  2.134857e+00  1.953426e+00  \n",
       "Emx2  2.458303e+00  2.454086e+00  \n",
       "Fgf8  8.371329e-03  8.371329e-03  \n",
       "Pax6  3.469447e-18  3.469447e-18  \n",
       "Sp8   2.968481e-03  0.000000e+00  \n",
       "\n",
       "[5 rows x 2000 columns]"
      ]
     },
     "execution_count": 3,
     "metadata": {},
     "output_type": "execute_result"
    }
   ],
   "source": [
    "df.T.head()"
   ]
  },
  {
   "cell_type": "code",
   "execution_count": 262,
   "metadata": {},
   "outputs": [
    {
     "name": "stdout",
     "output_type": "stream",
     "text": [
      "\n"
     ]
    },
    {
     "name": "stderr",
     "output_type": "stream",
     "text": [
      "/home/cameron/miniconda3/envs/cam_env_2/lib/python3.11/site-packages/sklearn/cluster/_kmeans.py:1412: FutureWarning: The default value of `n_init` will change from 10 to 'auto' in 1.4. Set the value of `n_init` explicitly to suppress the warning\n",
      "  super()._check_params_vs_input(X, default_n_init=10)\n",
      "/home/cameron/miniconda3/envs/cam_env_2/lib/python3.11/site-packages/sklearn/cluster/_kmeans.py:1412: FutureWarning: The default value of `n_init` will change from 10 to 'auto' in 1.4. Set the value of `n_init` explicitly to suppress the warning\n",
      "  super()._check_params_vs_input(X, default_n_init=10)\n",
      "/home/cameron/miniconda3/envs/cam_env_2/lib/python3.11/site-packages/sklearn/cluster/_kmeans.py:1412: FutureWarning: The default value of `n_init` will change from 10 to 'auto' in 1.4. Set the value of `n_init` explicitly to suppress the warning\n",
      "  super()._check_params_vs_input(X, default_n_init=10)\n",
      "/home/cameron/miniconda3/envs/cam_env_2/lib/python3.11/site-packages/sklearn/cluster/_kmeans.py:1412: FutureWarning: The default value of `n_init` will change from 10 to 'auto' in 1.4. Set the value of `n_init` explicitly to suppress the warning\n",
      "  super()._check_params_vs_input(X, default_n_init=10)\n",
      "/home/cameron/miniconda3/envs/cam_env_2/lib/python3.11/site-packages/sklearn/cluster/_kmeans.py:1412: FutureWarning: The default value of `n_init` will change from 10 to 'auto' in 1.4. Set the value of `n_init` explicitly to suppress the warning\n",
      "  super()._check_params_vs_input(X, default_n_init=10)\n",
      "/tmp/ipykernel_32937/3740657813.py:9: FutureWarning: Support for multi-dimensional indexing (e.g. `obj[:, None]`) is deprecated and will be removed in a future version.  Convert to a numpy array before indexing instead.\n",
      "  BinExpression = ClusteredData != min_avg_clusters[:, np.newaxis]\n"
     ]
    }
   ],
   "source": [
    "# The following three lines were created with the help of generative AI tools\n",
    "ClusteredData = df.T.apply(\n",
    "    lambda row: kmeans_cluster(row.values, 3), axis=1, result_type=\"broadcast\"\n",
    ")\n",
    "min_avg_clusters = df.T.apply(\n",
    "    lambda row: get_min_avg_cluster(row, ClusteredData.loc[row.name]), axis=1\n",
    ")\n",
    "print()\n",
    "BinExpression = ClusteredData != min_avg_clusters[:, np.newaxis]"
   ]
  },
  {
   "cell_type": "code",
   "execution_count": 263,
   "metadata": {},
   "outputs": [
    {
     "ename": "IndexError",
     "evalue": "single positional indexer is out-of-bounds",
     "output_type": "error",
     "traceback": [
      "\u001b[0;31m---------------------------------------------------------------------------\u001b[0m",
      "\u001b[0;31mIndexError\u001b[0m                                Traceback (most recent call last)",
      "Cell \u001b[0;32mIn[263], line 1\u001b[0m\n\u001b[0;32m----> 1\u001b[0m BinExpression\u001b[38;5;241m.\u001b[39miloc[\u001b[38;5;241m8\u001b[39m]\u001b[38;5;241m.\u001b[39mvalue_counts()\n",
      "File \u001b[0;32m~/miniconda3/envs/cam_env_2/lib/python3.11/site-packages/pandas/core/indexing.py:1073\u001b[0m, in \u001b[0;36m_LocationIndexer.__getitem__\u001b[0;34m(self, key)\u001b[0m\n\u001b[1;32m   1070\u001b[0m axis \u001b[38;5;241m=\u001b[39m \u001b[38;5;28mself\u001b[39m\u001b[38;5;241m.\u001b[39maxis \u001b[38;5;129;01mor\u001b[39;00m \u001b[38;5;241m0\u001b[39m\n\u001b[1;32m   1072\u001b[0m maybe_callable \u001b[38;5;241m=\u001b[39m com\u001b[38;5;241m.\u001b[39mapply_if_callable(key, \u001b[38;5;28mself\u001b[39m\u001b[38;5;241m.\u001b[39mobj)\n\u001b[0;32m-> 1073\u001b[0m \u001b[38;5;28;01mreturn\u001b[39;00m \u001b[38;5;28mself\u001b[39m\u001b[38;5;241m.\u001b[39m_getitem_axis(maybe_callable, axis\u001b[38;5;241m=\u001b[39maxis)\n",
      "File \u001b[0;32m~/miniconda3/envs/cam_env_2/lib/python3.11/site-packages/pandas/core/indexing.py:1625\u001b[0m, in \u001b[0;36m_iLocIndexer._getitem_axis\u001b[0;34m(self, key, axis)\u001b[0m\n\u001b[1;32m   1622\u001b[0m     \u001b[38;5;28;01mraise\u001b[39;00m \u001b[38;5;167;01mTypeError\u001b[39;00m(\u001b[38;5;124m\"\u001b[39m\u001b[38;5;124mCannot index by location index with a non-integer key\u001b[39m\u001b[38;5;124m\"\u001b[39m)\n\u001b[1;32m   1624\u001b[0m \u001b[38;5;66;03m# validate the location\u001b[39;00m\n\u001b[0;32m-> 1625\u001b[0m \u001b[38;5;28mself\u001b[39m\u001b[38;5;241m.\u001b[39m_validate_integer(key, axis)\n\u001b[1;32m   1627\u001b[0m \u001b[38;5;28;01mreturn\u001b[39;00m \u001b[38;5;28mself\u001b[39m\u001b[38;5;241m.\u001b[39mobj\u001b[38;5;241m.\u001b[39m_ixs(key, axis\u001b[38;5;241m=\u001b[39maxis)\n",
      "File \u001b[0;32m~/miniconda3/envs/cam_env_2/lib/python3.11/site-packages/pandas/core/indexing.py:1557\u001b[0m, in \u001b[0;36m_iLocIndexer._validate_integer\u001b[0;34m(self, key, axis)\u001b[0m\n\u001b[1;32m   1555\u001b[0m len_axis \u001b[38;5;241m=\u001b[39m \u001b[38;5;28mlen\u001b[39m(\u001b[38;5;28mself\u001b[39m\u001b[38;5;241m.\u001b[39mobj\u001b[38;5;241m.\u001b[39m_get_axis(axis))\n\u001b[1;32m   1556\u001b[0m \u001b[38;5;28;01mif\u001b[39;00m key \u001b[38;5;241m>\u001b[39m\u001b[38;5;241m=\u001b[39m len_axis \u001b[38;5;129;01mor\u001b[39;00m key \u001b[38;5;241m<\u001b[39m \u001b[38;5;241m-\u001b[39mlen_axis:\n\u001b[0;32m-> 1557\u001b[0m     \u001b[38;5;28;01mraise\u001b[39;00m \u001b[38;5;167;01mIndexError\u001b[39;00m(\u001b[38;5;124m\"\u001b[39m\u001b[38;5;124msingle positional indexer is out-of-bounds\u001b[39m\u001b[38;5;124m\"\u001b[39m)\n",
      "\u001b[0;31mIndexError\u001b[0m: single positional indexer is out-of-bounds"
     ]
    }
   ],
   "source": [
    "BinExpression.iloc[8].value_counts()"
   ]
  },
  {
   "cell_type": "code",
   "execution_count": 264,
   "metadata": {},
   "outputs": [],
   "source": [
    "import matplotlib.pyplot as plt"
   ]
  },
  {
   "cell_type": "code",
   "execution_count": 265,
   "metadata": {},
   "outputs": [
    {
     "name": "stdout",
     "output_type": "stream",
     "text": [
      "['Coup', 'Emx2', 'Fgf8', 'Pax6', 'Sp8']\n"
     ]
    }
   ],
   "source": [
    "genes = list(BinExpression.index)\n",
    "print(genes)"
   ]
  },
  {
   "cell_type": "code",
   "execution_count": 273,
   "metadata": {},
   "outputs": [
    {
     "data": {
      "image/png": "[encoded data removed]",
      "text/plain": [
       "<Figure size 2000x500 with 1 Axes>"
      ]
     },
     "metadata": {},
     "output_type": "display_data"
    }
   ],
   "source": [
    "%matplotlib inline\n",
    "x = 2\n",
    "plt.figure(figsize=(20, 5))\n",
    "plt.scatter(x=df.T.loc[genes[x]].values.tolist(),y=df.T.loc[genes[x]].values.tolist(),c=BinExpression.loc[genes[x]].values.tolist(),s=0.05)\n",
    "plt.show()"
   ]
  },
  {
   "cell_type": "code",
   "execution_count": 274,
   "metadata": {},
   "outputs": [
    {
     "data": {
      "image/png": "[encoded data removed]",
      "text/plain": [
       "<Figure size 2000x500 with 1 Axes>"
      ]
     },
     "metadata": {},
     "output_type": "display_data"
    }
   ],
   "source": [
    "plt.figure(figsize=(20, 5))\n",
    "plt.hist(df.T.loc[genes[x]].values.tolist(),bins=100)\n",
    "plt.show()"
   ]
  },
  {
   "cell_type": "code",
   "execution_count": 281,
   "metadata": {},
   "outputs": [
    {
     "data": {
      "text/html": [
       "<div>\n",
       "<style scoped>\n",
       "    .dataframe tbody tr th:only-of-type {\n",
       "        vertical-align: middle;\n",
       "    }\n",
       "\n",
       "    .dataframe tbody tr th {\n",
       "        vertical-align: top;\n",
       "    }\n",
       "\n",
       "    .dataframe thead th {\n",
       "        text-align: right;\n",
       "    }\n",
       "</style>\n",
       "<table border=\"1\" class=\"dataframe\">\n",
       "  <thead>\n",
       "    <tr style=\"text-align: right;\">\n",
       "      <th></th>\n",
       "      <th>Coup</th>\n",
       "      <th>Emx2</th>\n",
       "      <th>Fgf8</th>\n",
       "      <th>Pax6</th>\n",
       "      <th>Sp8</th>\n",
       "    </tr>\n",
       "  </thead>\n",
       "  <tbody>\n",
       "    <tr>\n",
       "      <th>E1263_1</th>\n",
       "      <td>0.0</td>\n",
       "      <td>0.0</td>\n",
       "      <td>0.000000</td>\n",
       "      <td>0.0</td>\n",
       "      <td>0.000000</td>\n",
       "    </tr>\n",
       "    <tr>\n",
       "      <th>E1065_1</th>\n",
       "      <td>0.0</td>\n",
       "      <td>0.0</td>\n",
       "      <td>0.852665</td>\n",
       "      <td>0.0</td>\n",
       "      <td>0.000000</td>\n",
       "    </tr>\n",
       "    <tr>\n",
       "      <th>E385_1</th>\n",
       "      <td>0.0</td>\n",
       "      <td>0.0</td>\n",
       "      <td>0.568443</td>\n",
       "      <td>0.0</td>\n",
       "      <td>0.067086</td>\n",
       "    </tr>\n",
       "  </tbody>\n",
       "</table>\n",
       "</div>"
      ],
      "text/plain": [
       "         Coup  Emx2      Fgf8  Pax6       Sp8\n",
       "E1263_1   0.0   0.0  0.000000   0.0  0.000000\n",
       "E1065_1   0.0   0.0  0.852665   0.0  0.000000\n",
       "E385_1    0.0   0.0  0.568443   0.0  0.067086"
      ]
     },
     "execution_count": 281,
     "metadata": {},
     "output_type": "execute_result"
    }
   ],
   "source": [
    "df.iloc[[2,0,2]]"
   ]
  },
  {
   "cell_type": "code",
   "execution_count": 282,
   "metadata": {},
   "outputs": [
    {
     "data": {
      "text/html": [
       "<div>\n",
       "<style scoped>\n",
       "    .dataframe tbody tr th:only-of-type {\n",
       "        vertical-align: middle;\n",
       "    }\n",
       "\n",
       "    .dataframe tbody tr th {\n",
       "        vertical-align: top;\n",
       "    }\n",
       "\n",
       "    .dataframe thead th {\n",
       "        text-align: right;\n",
       "    }\n",
       "</style>\n",
       "<table border=\"1\" class=\"dataframe\">\n",
       "  <thead>\n",
       "    <tr style=\"text-align: right;\">\n",
       "      <th></th>\n",
       "      <th>Coup</th>\n",
       "      <th>Emx2</th>\n",
       "      <th>Fgf8</th>\n",
       "      <th>Pax6</th>\n",
       "      <th>Sp8</th>\n",
       "    </tr>\n",
       "  </thead>\n",
       "  <tbody>\n",
       "    <tr>\n",
       "      <th>E385_1</th>\n",
       "      <td>0.0</td>\n",
       "      <td>0.0</td>\n",
       "      <td>0.568443</td>\n",
       "      <td>0.0</td>\n",
       "      <td>0.067086</td>\n",
       "    </tr>\n",
       "    <tr>\n",
       "      <th>E1263_1</th>\n",
       "      <td>0.0</td>\n",
       "      <td>0.0</td>\n",
       "      <td>0.000000</td>\n",
       "      <td>0.0</td>\n",
       "      <td>0.000000</td>\n",
       "    </tr>\n",
       "    <tr>\n",
       "      <th>E1065_1</th>\n",
       "      <td>0.0</td>\n",
       "      <td>0.0</td>\n",
       "      <td>0.852665</td>\n",
       "      <td>0.0</td>\n",
       "      <td>0.000000</td>\n",
       "    </tr>\n",
       "  </tbody>\n",
       "</table>\n",
       "</div>"
      ],
      "text/plain": [
       "         Coup  Emx2      Fgf8  Pax6       Sp8\n",
       "E385_1    0.0   0.0  0.568443   0.0  0.067086\n",
       "E1263_1   0.0   0.0  0.000000   0.0  0.000000\n",
       "E1065_1   0.0   0.0  0.852665   0.0  0.000000"
      ]
     },
     "execution_count": 282,
     "metadata": {},
     "output_type": "execute_result"
    }
   ],
   "source": [
    "df.iloc[[2,0,1]]"
   ]
  },
  {
   "cell_type": "code",
   "execution_count": 284,
   "metadata": {},
   "outputs": [],
   "source": [
    "x = [0,1,2]"
   ]
  },
  {
   "cell_type": "code",
   "execution_count": 286,
   "metadata": {},
   "outputs": [
    {
     "ename": "TypeError",
     "evalue": "list indices must be integers or slices, not list",
     "output_type": "error",
     "traceback": [
      "\u001b[0;31m---------------------------------------------------------------------------\u001b[0m",
      "\u001b[0;31mTypeError\u001b[0m                                 Traceback (most recent call last)",
      "Cell \u001b[0;32mIn[286], line 1\u001b[0m\n\u001b[0;32m----> 1\u001b[0m x[[\u001b[38;5;241m1\u001b[39m,\u001b[38;5;241m2\u001b[39m,\u001b[38;5;241m0\u001b[39m]]\n",
      "\u001b[0;31mTypeError\u001b[0m: list indices must be integers or slices, not list"
     ]
    }
   ],
   "source": [
    "x[[1,2,0]]"
   ]
  },
  {
   "cell_type": "code",
   "execution_count": 287,
   "metadata": {},
   "outputs": [],
   "source": [
    "a = np.array([2, 3, 4], dtype=np.uint32)\n",
    "b = np.array([5, 6, 7], dtype=np.uint32)"
   ]
  },
  {
   "cell_type": "code",
   "execution_count": 288,
   "metadata": {},
   "outputs": [],
   "source": [
    "c = np.array([a,b])"
   ]
  },
  {
   "cell_type": "code",
   "execution_count": 289,
   "metadata": {},
   "outputs": [
    {
     "data": {
      "text/plain": [
       "array([[2, 3, 4],\n",
       "       [5, 6, 7]], dtype=uint32)"
      ]
     },
     "execution_count": 289,
     "metadata": {},
     "output_type": "execute_result"
    }
   ],
   "source": [
    "c"
   ]
  },
  {
   "cell_type": "code",
   "execution_count": 18,
   "metadata": {},
   "outputs": [
    {
     "data": {
      "text/plain": [
       "E1263_1    0.000000\n",
       "E1065_1    0.000000\n",
       "E385_1     0.100629\n",
       "E1709_2    0.300071\n",
       "E1059_2    0.392044\n",
       "E1330_2    0.192601\n",
       "E697_2     0.000000\n",
       "E426_3     0.000000\n",
       "E934_3     0.000000\n",
       "E291_3     0.278215\n",
       "E1805_3    0.278215\n",
       "E1823_4    0.000000\n",
       "E23_5      0.000000\n",
       "E927_5     0.000000\n",
       "E495_5     0.000000\n",
       "E850_5     0.437902\n",
       "E1870_6    0.437902\n",
       "E1755_6    0.548989\n",
       "E1593_7    1.018778\n",
       "E1409_8    0.469788\n",
       "Name: Sp8, dtype: float64"
      ]
     },
     "execution_count": 18,
     "metadata": {},
     "output_type": "execute_result"
    }
   ],
   "source": [
    "df['Sp8'][:20]"
   ]
  },
  {
   "cell_type": "code",
   "execution_count": 21,
   "metadata": {},
   "outputs": [
    {
     "data": {
      "text/plain": [
       "E1263_1    0.000000\n",
       "E1065_1    0.000000\n",
       "E385_1     0.009060\n",
       "E1709_2    0.041489\n",
       "E1059_2    0.131615\n",
       "E1330_2    0.252878\n",
       "E697_2     0.292513\n",
       "E426_3     0.188113\n",
       "E934_3     0.061757\n",
       "E291_3     0.031757\n",
       "E1805_3    0.069777\n",
       "E1823_4    0.189673\n",
       "E23_5      0.189673\n",
       "E927_5     0.069777\n",
       "E495_5     0.018766\n",
       "E850_5     0.029537\n",
       "E1870_6    0.109826\n",
       "E1755_6    0.335569\n",
       "E1593_7    0.467914\n",
       "E1409_8    0.601922\n",
       "Name: Sp8, dtype: float64"
      ]
     },
     "execution_count": 21,
     "metadata": {},
     "output_type": "execute_result"
    }
   ],
   "source": [
    "df['Sp8'].rolling(5,min_periods=1,win_type='exponential').mean()[:20]"
   ]
  }
 ],
 "metadata": {
  "kernelspec": {
   "display_name": "cam_env_2",
   "language": "python",
   "name": "python3"
  },
  "language_info": {
   "codemirror_mode": {
    "name": "ipython",
    "version": 3
   },
   "file_extension": ".py",
   "mimetype": "text/x-python",
   "name": "python",
   "nbconvert_exporter": "python",
   "pygments_lexer": "ipython3",
   "version": "3.11.5"
  }
 },
 "nbformat": 4,
 "nbformat_minor": 2
}
